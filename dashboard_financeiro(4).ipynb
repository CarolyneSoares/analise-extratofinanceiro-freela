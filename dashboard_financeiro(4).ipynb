{
  "nbformat": 4,
  "nbformat_minor": 0,
  "metadata": {
    "colab": {
      "provenance": []
    },
    "kernelspec": {
      "name": "python3",
      "display_name": "Python 3"
    },
    "language_info": {
      "name": "python"
    }
  },
  "cells": [
    {
      "cell_type": "code",
      "execution_count": null,
      "metadata": {
        "id": "jJzKDgZL8Ili"
      },
      "outputs": [],
      "source": [
        "!pip install PyPDF2\n"
      ]
    },
    {
      "cell_type": "code",
      "source": [
        "import PyPDF2\n",
        "import pandas as pd\n",
        "import re\n",
        "\n",
        "# Inicializar listas para cada coluna\n",
        "datas = []\n",
        "descricoes = []\n",
        "valores = []\n",
        "tipos = []\n",
        "\n",
        "# Inicializar a variável `data`\n",
        "data = None\n",
        "\n",
        "# Abrir o PDF\n",
        "with open(\"/content/df-digital_01012024_a_31012024_375025b8-1.pdf\", \"rb\") as arquivo_pdf:\n",
        "    leitor_pdf = PyPDF2.PdfReader(arquivo_pdf)\n",
        "\n",
        "    # Percorrer cada página\n",
        "    for num_pagina in range(len(leitor_pdf.pages)):\n",
        "        pagina = leitor_pdf.pages[num_pagina]\n",
        "        texto = pagina.extract_text()\n",
        "\n",
        "        # Processar cada linha do texto da página\n",
        "        for linha in texto.split('\\n'):\n",
        "            # Procurar datas\n",
        "            data_match = re.match(r\"(\\d{2}/\\d{2}/\\d{4})\", linha)\n",
        "            if data_match:\n",
        "                data = data_match.group(1)\n",
        "\n",
        "            # Procurar transações\n",
        "            transacao_match = re.search(r\"([+-])\\s*R\\$\\s*([\\d.,]+)\\s*(.*)\", linha)\n",
        "            if transacao_match and data is not None:\n",
        "                tipo = 'Entrada' if transacao_match.group(1) == '+' else 'Saída'\n",
        "                valor = float(transacao_match.group(2).replace('.', '').replace(',', '.'))\n",
        "                descricao = transacao_match.group(3).strip()\n",
        "\n",
        "                # Adicionar dados às listas\n",
        "                datas.append(data)\n",
        "                tipos.append(tipo)\n",
        "                valores.append(valor)\n",
        "                descricoes.append(descricao)\n",
        "\n",
        "# Criar DataFrame com as listas\n",
        "df = pd.DataFrame({\n",
        "    'Data': datas,\n",
        "    'Descrição': descricoes,\n",
        "    'Valor': valores,\n",
        "    'Tipo': tipos\n",
        "})\n",
        "\n",
        "# Visualizar DataFrame\n",
        "print(df)\n"
      ],
      "metadata": {
        "collapsed": true,
        "id": "JXQpmjGVAgE7"
      },
      "execution_count": null,
      "outputs": []
    },
    {
      "cell_type": "code",
      "source": [
        "import pandas as pd\n",
        "\n",
        "# Suponha que você já tenha um DataFrame 'df' com todas as transações\n",
        "# Criamos as funções de categorização como discutido antes\n",
        "\n",
        "def categorizar_tipo_receita(descricao):\n",
        "    descricao = descricao.lower()\n",
        "    if \"pix\" in descricao:\n",
        "        return \"Pix\"\n",
        "    elif \"boleto\" in descricao:\n",
        "        return \"Boleto\"\n",
        "    elif \"transferência\" in descricao or \"transf\" in descricao:\n",
        "        return \"Transferência\"\n",
        "    elif \"pagamento\" in descricao:\n",
        "        return \"Pagamento\"\n",
        "    else:\n",
        "        return \"Outros\"\n",
        "\n",
        "def extrair_cliente_receita(descricao):\n",
        "    palavras_chave = [\"recebido\", \"recebida\"]\n",
        "\n",
        "    for palavra in palavras_chave:\n",
        "        if palavra in descricao.lower():\n",
        "            return descricao.split(palavra)[-1].strip()\n",
        "\n",
        "\n",
        "def categorizar_tipo_despesa(descricao):\n",
        "    descricao = descricao.lower()\n",
        "    if \"pix\" in descricao:\n",
        "        return \"Pix\"\n",
        "    elif \"boleto\" in descricao:\n",
        "        return \"Boleto\"\n",
        "    elif \"transferência\" in descricao or \"transf\" in descricao:\n",
        "        return \"Transferência\"\n",
        "    elif \"pagamento\" in descricao:\n",
        "        return \"Pagamento\"\n",
        "    else:\n",
        "        return \"Outros\"\n",
        "\n",
        "def extrair_fornecedor_despesa(descricao):\n",
        "    palavras_chave = [\"pago\", \"pagamento\", \"Pix\", \"enviada\", \"conta\"]\n",
        "\n",
        "    for palavra in palavras_chave:\n",
        "        if palavra in descricao:\n",
        "           return descricao.split(palavra)[-1].strip()\n",
        "\n",
        "# Filtrar e criar tabela de receitas\n",
        "df_receitas = df[df['Tipo'] == 'Entrada'].copy()\n",
        "df_receitas['Tipo de Receita'] = df_receitas['Descrição'].apply(categorizar_tipo_receita)\n",
        "df_receitas['Cliente/Origem da Receita'] = df_receitas['Descrição'].apply(extrair_cliente_receita)\n",
        "df_receitas = df_receitas[['Data', 'Valor', 'Tipo de Receita', 'Cliente/Origem da Receita']]\n",
        "\n",
        "# Exibir as tabelas\n",
        "print(\"Tabela de Receitas:\")\n",
        "print(df_receitas)\n",
        "\n",
        "# Criando um arquivo CSV\n",
        "df_receitas.to_csv(\"total_receitas.csv\", index=False, encoding=\"utf-8\")\n",
        "\n",
        "print(\"Arquivo CSV gerado com sucesso!\")\n",
        "\n"
      ],
      "metadata": {
        "collapsed": true,
        "id": "0B3-2DGfCXiX"
      },
      "execution_count": null,
      "outputs": []
    },
    {
      "cell_type": "code",
      "source": [
        "# Filtrar e criar tabela de despesas\n",
        "df_despesas = df[df['Tipo'] == 'Saída'].copy()\n",
        "df_despesas['Tipo de Despesa'] = df_despesas['Descrição'].apply(categorizar_tipo_despesa)\n",
        "df_despesas['Fornecedor/Destino da Despesa'] = df_despesas['Descrição'].apply(extrair_fornecedor_despesa)\n",
        "df_despesas = df_despesas[['Data', 'Valor', 'Tipo de Despesa', 'Fornecedor/Destino da Despesa']]\n",
        "\n",
        "print(\"\\nTabela de Despesas:\")\n",
        "print(df_despesas)\n",
        "\n",
        "# Criando um arquivo CSV\n",
        "df_despesas.to_csv(\"total_despesas.csv\", index=False, encoding=\"utf-8\")\n",
        "\n",
        "print(\"Arquivo CSV gerado com sucesso!\")"
      ],
      "metadata": {
        "collapsed": true,
        "id": "wtbtoVKSS3yy"
      },
      "execution_count": null,
      "outputs": []
    },
    {
      "cell_type": "code",
      "source": [
        "# Faturamento total\n",
        "faturamento_total = df_receitas['Valor'].sum()\n",
        "print(f\"Faturamento Total: R${faturamento_total:.2f}\")"
      ],
      "metadata": {
        "id": "lzl0F9m7VEdk"
      },
      "execution_count": null,
      "outputs": []
    },
    {
      "cell_type": "code",
      "source": [
        "# Despesa\n",
        "\n",
        "despesa_total = df_despesas['Valor'].sum()\n",
        "print(f\"Despesa Total: R${despesa_total:.2f}\")"
      ],
      "metadata": {
        "id": "JpoxgkTHVSbH"
      },
      "execution_count": null,
      "outputs": []
    },
    {
      "cell_type": "code",
      "source": [
        "#Lucro\n",
        "lucro = faturamento_total - despesa_total\n",
        "print(f\"Lucro: R${lucro:.2f}\")"
      ],
      "metadata": {
        "id": "TBDk52AAVeQp"
      },
      "execution_count": null,
      "outputs": []
    }
  ]
}